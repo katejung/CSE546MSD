{
 "cells": [
  {
   "cell_type": "code",
   "execution_count": null,
   "metadata": {},
   "outputs": [],
   "source": [
    "import os\n",
    "import sys\n",
    "import time\n",
    "import glob\n",
    "import datetime\n",
    "import sqlite3\n",
    "import numpy as np\n",
    "sys.path.append(os.path.join(msd_code_path,'PythonSrc') )\n",
    "import hdf5_getters as GETTERS\n",
    "\n",
    "    feature_labels = ['segments_pitch', \n",
    "                 'segments_timbre',\n",
    "                 'segments_loudness_max',\n",
    "                 'tempo']\n",
    "    for root, dirs, files in os.walk(basedir):\n",
    "        files = glob.glob(os.path.join(root,'*.h5'))\n",
    "        print(root)\n",
    "        # apply function to all files\n",
    "        for f in files :\n",
    "            h5 = GETTERS.open_h5_file_read(f)\n",
    "            segments_pitch = GETTERS.get_segments_pitches(h5)\n",
    "            segments_timbre = GETTERS.get_segments_timbre(h5)\n",
    "            segments_loudness_max = GETTERS.get_segments_loudness_max(h5)\n",
    "            tempo = GETTERS.get_tempo(h5)\n",
    "            year = GETTERS.get_year(h5)\n",
    "            h5.close()\n",
    "            X.append([segments_pitch,segments_timbre,segments_loudness_max,tempo])      \n",
    "            Y.append(year)\n"
   ]
  }
 ],
 "metadata": {
  "kernelspec": {
   "display_name": "Python 3",
   "language": "python",
   "name": "python3"
  },
  "language_info": {
   "codemirror_mode": {
    "name": "ipython",
    "version": 3
   },
   "file_extension": ".py",
   "mimetype": "text/x-python",
   "name": "python",
   "nbconvert_exporter": "python",
   "pygments_lexer": "ipython3",
   "version": "3.6.2"
  }
 },
 "nbformat": 4,
 "nbformat_minor": 2
}
