{
 "cells": [
  {
   "cell_type": "code",
   "execution_count": 1,
   "metadata": {},
   "outputs": [],
   "source": [
    "import os\n",
    "import sys\n",
    "import time\n",
    "import glob\n",
    "import datetime\n",
    "import sqlite3\n",
    "import numpy as np\n",
    "from beat_aligned_feats import get_bttimbre,get_bttatums"
   ]
  },
  {
   "cell_type": "code",
   "execution_count": 2,
   "metadata": {},
   "outputs": [
    {
     "name": "stdout",
     "output_type": "stream",
     "text": [
      "/Users/sw_k_jung/Google Drive/Cloud/CSE546/data_train/C/A/L 0\n"
     ]
    },
    {
     "ename": "ValueError",
     "evalue": "shapes (600,785) and (1199,1) not aligned: 785 (dim 1) != 1199 (dim 0)",
     "output_type": "error",
     "traceback": [
      "\u001b[0;31m---------------------------------------------------------------------------\u001b[0m",
      "\u001b[0;31mValueError\u001b[0m                                Traceback (most recent call last)",
      "\u001b[0;32m<ipython-input-2-72b70cbe7e6f>\u001b[0m in \u001b[0;36m<module>\u001b[0;34m()\u001b[0m\n\u001b[1;32m     33\u001b[0m     \u001b[0;32mreturn\u001b[0m \u001b[0mX\u001b[0m\u001b[0;34m,\u001b[0m \u001b[0mY\u001b[0m\u001b[0;34m,\u001b[0m \u001b[0mfeature_labels\u001b[0m\u001b[0;34m\u001b[0m\u001b[0m\n\u001b[1;32m     34\u001b[0m \u001b[0;34m\u001b[0m\u001b[0m\n\u001b[0;32m---> 35\u001b[0;31m \u001b[0mX\u001b[0m\u001b[0;34m,\u001b[0m \u001b[0mY\u001b[0m\u001b[0;34m,\u001b[0m \u001b[0mlabels\u001b[0m \u001b[0;34m=\u001b[0m \u001b[0mgetSamples\u001b[0m\u001b[0;34m(\u001b[0m\u001b[0mmsd_subset_data_path\u001b[0m\u001b[0;34m)\u001b[0m\u001b[0;34m\u001b[0m\u001b[0m\n\u001b[0m",
      "\u001b[0;32m<ipython-input-2-72b70cbe7e6f>\u001b[0m in \u001b[0;36mgetSamples\u001b[0;34m(basedir)\u001b[0m\n\u001b[1;32m     23\u001b[0m             \u001b[0;32mif\u001b[0m \u001b[0myear\u001b[0m \u001b[0;34m==\u001b[0m \u001b[0;36m0\u001b[0m\u001b[0;34m:\u001b[0m\u001b[0;34m\u001b[0m\u001b[0m\n\u001b[1;32m     24\u001b[0m                 \u001b[0;32mcontinue\u001b[0m\u001b[0;34m\u001b[0m\u001b[0m\n\u001b[0;32m---> 25\u001b[0;31m             \u001b[0mtatums\u001b[0m \u001b[0;34m=\u001b[0m \u001b[0mget_bttatums\u001b[0m\u001b[0;34m(\u001b[0m\u001b[0mh5\u001b[0m\u001b[0;34m)\u001b[0m\u001b[0;34m\u001b[0m\u001b[0m\n\u001b[0m\u001b[1;32m     26\u001b[0m             \u001b[0mprint\u001b[0m\u001b[0;34m(\u001b[0m\u001b[0mlen\u001b[0m\u001b[0;34m(\u001b[0m\u001b[0mtatums\u001b[0m\u001b[0;34m)\u001b[0m\u001b[0;34m)\u001b[0m\u001b[0;34m\u001b[0m\u001b[0m\n\u001b[1;32m     27\u001b[0m \u001b[0;34m\u001b[0m\u001b[0m\n",
      "\u001b[0;32m~/Google Drive/Cloud/CSE546/Project/Kate/beat_aligned_feats.py\u001b[0m in \u001b[0;36mget_bttatums\u001b[0;34m(h5)\u001b[0m\n\u001b[1;32m    179\u001b[0m     \u001b[0mbtstarts\u001b[0m \u001b[0;34m=\u001b[0m \u001b[0mnp\u001b[0m\u001b[0;34m.\u001b[0m\u001b[0marray\u001b[0m\u001b[0;34m(\u001b[0m\u001b[0mbtstarts\u001b[0m\u001b[0;34m)\u001b[0m\u001b[0;34m.\u001b[0m\u001b[0mflatten\u001b[0m\u001b[0;34m(\u001b[0m\u001b[0;34m)\u001b[0m\u001b[0;34m\u001b[0m\u001b[0m\n\u001b[1;32m    180\u001b[0m     \u001b[0;31m# aligned features\u001b[0m\u001b[0;34m\u001b[0m\u001b[0;34m\u001b[0m\u001b[0m\n\u001b[0;32m--> 181\u001b[0;31m     \u001b[0mbttatums\u001b[0m \u001b[0;34m=\u001b[0m \u001b[0malign_feats\u001b[0m\u001b[0;34m(\u001b[0m\u001b[0mtatums\u001b[0m\u001b[0;34m,\u001b[0m \u001b[0msegstarts\u001b[0m\u001b[0;34m,\u001b[0m \u001b[0mbtstarts\u001b[0m\u001b[0;34m,\u001b[0m \u001b[0mduration\u001b[0m\u001b[0;34m)\u001b[0m\u001b[0;34m\u001b[0m\u001b[0m\n\u001b[0m\u001b[1;32m    182\u001b[0m     \u001b[0;32mif\u001b[0m \u001b[0mbttatums\u001b[0m \u001b[0;32mis\u001b[0m \u001b[0;32mNone\u001b[0m\u001b[0;34m:\u001b[0m\u001b[0;34m\u001b[0m\u001b[0m\n\u001b[1;32m    183\u001b[0m         \u001b[0;32mreturn\u001b[0m \u001b[0;32mNone\u001b[0m\u001b[0;34m\u001b[0m\u001b[0m\n",
      "\u001b[0;32m~/Google Drive/Cloud/CSE546/Project/Kate/beat_aligned_feats.py\u001b[0m in \u001b[0;36malign_feats\u001b[0;34m(feats, segstarts, btstarts, duration)\u001b[0m\n\u001b[1;32m    257\u001b[0m     \u001b[0;31m#    btchroma.shape = (304, 12)\u001b[0m\u001b[0;34m\u001b[0m\u001b[0;34m\u001b[0m\u001b[0m\n\u001b[1;32m    258\u001b[0m     \u001b[0mwarpmat\u001b[0m \u001b[0;34m=\u001b[0m \u001b[0mget_time_warp_matrix\u001b[0m\u001b[0;34m(\u001b[0m\u001b[0msegstarts\u001b[0m\u001b[0;34m,\u001b[0m \u001b[0mbtstarts\u001b[0m\u001b[0;34m,\u001b[0m \u001b[0mduration\u001b[0m\u001b[0;34m)\u001b[0m\u001b[0;34m\u001b[0m\u001b[0m\n\u001b[0;32m--> 259\u001b[0;31m     \u001b[0mfeatchroma\u001b[0m \u001b[0;34m=\u001b[0m \u001b[0mnp\u001b[0m\u001b[0;34m.\u001b[0m\u001b[0mdot\u001b[0m\u001b[0;34m(\u001b[0m\u001b[0mwarpmat\u001b[0m\u001b[0;34m,\u001b[0m \u001b[0mfeats\u001b[0m\u001b[0;34m.\u001b[0m\u001b[0mT\u001b[0m\u001b[0;34m)\u001b[0m\u001b[0;34m.\u001b[0m\u001b[0mT\u001b[0m\u001b[0;34m\u001b[0m\u001b[0m\n\u001b[0m\u001b[1;32m    260\u001b[0m     \u001b[0;32mif\u001b[0m \u001b[0mfeatchroma\u001b[0m\u001b[0;34m.\u001b[0m\u001b[0mshape\u001b[0m\u001b[0;34m[\u001b[0m\u001b[0;36m1\u001b[0m\u001b[0;34m]\u001b[0m \u001b[0;34m==\u001b[0m \u001b[0;36m0\u001b[0m\u001b[0;34m:\u001b[0m \u001b[0;31m# sanity check\u001b[0m\u001b[0;34m\u001b[0m\u001b[0m\n\u001b[1;32m    261\u001b[0m         \u001b[0;32mreturn\u001b[0m \u001b[0;32mNone\u001b[0m\u001b[0;34m\u001b[0m\u001b[0m\n",
      "\u001b[0;31mValueError\u001b[0m: shapes (600,785) and (1199,1) not aligned: 785 (dim 1) != 1199 (dim 0)"
     ]
    }
   ],
   "source": [
    "# path to the Million Song Dataset subset (uncompressed)\n",
    "msd_subset_path='/Users/sw_k_jung/Google Drive/Cloud/CSE546/Project/'\n",
    "msd_subset_data_path='/Users/sw_k_jung/Google Drive/Cloud/CSE546/data_train/C/A/L'\n",
    "msd_subset_addf_path=os.path.join(msd_subset_path,'helpers')\n",
    "msd_code_path='/Users/sw_k_jung/Google Drive/Cloud/CSE546/Project/helpers'\n",
    "sys.path.append(os.path.join(msd_code_path,'PythonSrc') )\n",
    "import hdf5_getters as GETTERS\n",
    "\n",
    "def getSamples(basedir):\n",
    "    X, Y = [],[]\n",
    "    feature_labels = ['segments_pitch', \n",
    "                 'segments_timbre',\n",
    "                 'segments_loudness_max',\n",
    "                 'tempo']\n",
    "    cnt = 0\n",
    "    for root, dirs, files in os.walk(basedir):\n",
    "        files = glob.glob(os.path.join(root,'*.h5'))\n",
    "        print(root, cnt)\n",
    "        # apply function to all files\n",
    "        for f in files:\n",
    "            h5 = GETTERS.open_h5_file_read(f)\n",
    "            year = GETTERS.get_year(h5)\n",
    "            if year == 0:\n",
    "                continue\n",
    "            tatums = get_bttatums(h5)\n",
    "            print(len(tatums))\n",
    "        \n",
    "            h5.close()\n",
    "            Y.append(year)\n",
    "            cnt+=1\n",
    "            if cnt  > 10000:\n",
    "                break;\n",
    "    return X, Y, feature_labels\n",
    "\n",
    "X, Y, labels = getSamples(msd_subset_data_path)"
   ]
  },
  {
   "cell_type": "code",
   "execution_count": null,
   "metadata": {},
   "outputs": [],
   "source": []
  }
 ],
 "metadata": {
  "kernelspec": {
   "display_name": "Python 3",
   "language": "python",
   "name": "python3"
  },
  "language_info": {
   "codemirror_mode": {
    "name": "ipython",
    "version": 3
   },
   "file_extension": ".py",
   "mimetype": "text/x-python",
   "name": "python",
   "nbconvert_exporter": "python",
   "pygments_lexer": "ipython3",
   "version": "3.6.2"
  }
 },
 "nbformat": 4,
 "nbformat_minor": 2
}
