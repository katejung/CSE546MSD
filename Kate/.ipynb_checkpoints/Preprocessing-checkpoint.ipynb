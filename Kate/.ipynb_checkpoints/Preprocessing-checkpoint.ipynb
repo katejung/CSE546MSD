{
 "cells": [
  {
   "cell_type": "code",
   "execution_count": 1,
   "metadata": {},
   "outputs": [],
   "source": [
    "import os\n",
    "import sys\n",
    "import time\n",
    "import glob\n",
    "import datetime\n",
    "import sqlite3\n",
    "import numpy as np"
   ]
  },
  {
   "cell_type": "code",
   "execution_count": 11,
   "metadata": {},
   "outputs": [
    {
     "name": "stdout",
     "output_type": "stream",
     "text": [
      "/Users/sw_k_jung/Google Drive/Cloud/CSE546/Project/data\n",
      "/Users/sw_k_jung/Google Drive/Cloud/CSE546/Project/data/A\n",
      "/Users/sw_k_jung/Google Drive/Cloud/CSE546/Project/data/A/R\n",
      "/Users/sw_k_jung/Google Drive/Cloud/CSE546/Project/data/A/R/R\n"
     ]
    },
    {
     "ename": "AttributeError",
     "evalue": "module 'tables' has no attribute 'openFile'",
     "output_type": "error",
     "traceback": [
      "\u001b[0;31m---------------------------------------------------------------------------\u001b[0m",
      "\u001b[0;31mAttributeError\u001b[0m                            Traceback (most recent call last)",
      "\u001b[0;32m<ipython-input-11-cc23fd012cad>\u001b[0m in \u001b[0;36m<module>\u001b[0;34m()\u001b[0m\n\u001b[1;32m     29\u001b[0m     \u001b[0;32mreturn\u001b[0m \u001b[0mX\u001b[0m\u001b[0;34m,\u001b[0m \u001b[0mY\u001b[0m\u001b[0;34m,\u001b[0m \u001b[0mfeature_labels\u001b[0m\u001b[0;34m\u001b[0m\u001b[0m\n\u001b[1;32m     30\u001b[0m \u001b[0;34m\u001b[0m\u001b[0m\n\u001b[0;32m---> 31\u001b[0;31m \u001b[0mX\u001b[0m\u001b[0;34m,\u001b[0m \u001b[0mY\u001b[0m\u001b[0;34m,\u001b[0m \u001b[0mlabels\u001b[0m \u001b[0;34m=\u001b[0m \u001b[0mgetSamples\u001b[0m\u001b[0;34m(\u001b[0m\u001b[0mmsd_subset_data_path\u001b[0m\u001b[0;34m)\u001b[0m\u001b[0;34m\u001b[0m\u001b[0m\n\u001b[0m",
      "\u001b[0;32m<ipython-input-11-cc23fd012cad>\u001b[0m in \u001b[0;36mgetSamples\u001b[0;34m(basedir)\u001b[0m\n\u001b[1;32m     18\u001b[0m         \u001b[0;31m# apply function to all files\u001b[0m\u001b[0;34m\u001b[0m\u001b[0;34m\u001b[0m\u001b[0m\n\u001b[1;32m     19\u001b[0m         \u001b[0;32mfor\u001b[0m \u001b[0mf\u001b[0m \u001b[0;32min\u001b[0m \u001b[0mfiles\u001b[0m \u001b[0;34m:\u001b[0m\u001b[0;34m\u001b[0m\u001b[0m\n\u001b[0;32m---> 20\u001b[0;31m             \u001b[0mh5\u001b[0m \u001b[0;34m=\u001b[0m \u001b[0mGETTERS\u001b[0m\u001b[0;34m.\u001b[0m\u001b[0mopen_h5_file_read\u001b[0m\u001b[0;34m(\u001b[0m\u001b[0mf\u001b[0m\u001b[0;34m)\u001b[0m\u001b[0;34m\u001b[0m\u001b[0m\n\u001b[0m\u001b[1;32m     21\u001b[0m             \u001b[0msegments_pitch\u001b[0m \u001b[0;34m=\u001b[0m \u001b[0mGETTERS\u001b[0m\u001b[0;34m.\u001b[0m\u001b[0mget_segments_pitches\u001b[0m\u001b[0;34m(\u001b[0m\u001b[0mh5\u001b[0m\u001b[0;34m)\u001b[0m\u001b[0;34m\u001b[0m\u001b[0m\n\u001b[1;32m     22\u001b[0m             \u001b[0msegments_timbre\u001b[0m \u001b[0;34m=\u001b[0m \u001b[0mGETTERS\u001b[0m\u001b[0;34m.\u001b[0m\u001b[0mget_segments_timbre\u001b[0m\u001b[0;34m(\u001b[0m\u001b[0mh5\u001b[0m\u001b[0;34m)\u001b[0m\u001b[0;34m\u001b[0m\u001b[0m\n",
      "\u001b[0;32m~/Google Drive/Cloud/CSE546/Project/helpers/MSongsDB/PythonSrc/hdf5_getters.py\u001b[0m in \u001b[0;36mopen_h5_file_read\u001b[0;34m(h5filename)\u001b[0m\n\u001b[1;32m     37\u001b[0m     \u001b[0mSame\u001b[0m \u001b[0mfunction\u001b[0m \u001b[0;32mas\u001b[0m \u001b[0;32min\u001b[0m \u001b[0mhdf5_utils\u001b[0m\u001b[0;34m,\u001b[0m \u001b[0mhere\u001b[0m \u001b[0mso\u001b[0m \u001b[0mwe\u001b[0m \u001b[0mavoid\u001b[0m \u001b[0mone\u001b[0m \u001b[0;32mimport\u001b[0m\u001b[0;34m\u001b[0m\u001b[0m\n\u001b[1;32m     38\u001b[0m     \"\"\"\n\u001b[0;32m---> 39\u001b[0;31m     \u001b[0;32mreturn\u001b[0m \u001b[0mtables\u001b[0m\u001b[0;34m.\u001b[0m\u001b[0mopenFile\u001b[0m\u001b[0;34m(\u001b[0m\u001b[0mh5filename\u001b[0m\u001b[0;34m,\u001b[0m \u001b[0mmode\u001b[0m\u001b[0;34m=\u001b[0m\u001b[0;34m'r'\u001b[0m\u001b[0;34m)\u001b[0m\u001b[0;34m\u001b[0m\u001b[0m\n\u001b[0m\u001b[1;32m     40\u001b[0m \u001b[0;34m\u001b[0m\u001b[0m\n\u001b[1;32m     41\u001b[0m \u001b[0;34m\u001b[0m\u001b[0m\n",
      "\u001b[0;31mAttributeError\u001b[0m: module 'tables' has no attribute 'openFile'"
     ]
    }
   ],
   "source": [
    "# path to the Million Song Dataset subset (uncompressed)\n",
    "msd_subset_path='/Users/sw_k_jung/Google Drive/Cloud/CSE546/Project/'\n",
    "msd_subset_data_path=os.path.join(msd_subset_path,'data')\n",
    "msd_subset_addf_path=os.path.join(msd_subset_path,'helpers')\n",
    "msd_code_path='/Users/sw_k_jung/Google Drive/Cloud/CSE546/Project/helpers/MSongsDB'\n",
    "sys.path.append(os.path.join(msd_code_path,'PythonSrc') )\n",
    "import hdf5_getters as GETTERS\n",
    "\n",
    "def getSamples(basedir):\n",
    "    X, Y = [],[]\n",
    "    feature_labels = ['segments_pitch', \n",
    "                 'segments_timbre',\n",
    "                 'segments_loudness_max',\n",
    "                 'tempo']\n",
    "    for root, dirs, files in os.walk(basedir):\n",
    "        files = glob.glob(os.path.join(root,'*.h5'))\n",
    "        print(root)\n",
    "        # apply function to all files\n",
    "        for f in files :\n",
    "            h5 = GETTERS.open_h5_file_read(f)\n",
    "            segments_pitch = GETTERS.get_segments_pitches(h5)\n",
    "            segments_timbre = GETTERS.get_segments_timbre(h5)\n",
    "            segments_loudness_max = GETTERS.get_segments_loudness_max(h5)\n",
    "            tempo = GETTERS.get_tempo(h5)\n",
    "            year = GETTERS.get_year(h5)\n",
    "            h5.close()\n",
    "            X.append([segments_pitch,segments_timbre,segments_loudness_max,tempo])      \n",
    "            Y.append(year)\n",
    "    return X, Y, feature_labels\n",
    "\n",
    "X, Y, labels = getSamples(msd_subset_data_path)"
   ]
  },
  {
   "cell_type": "code",
   "execution_count": null,
   "metadata": {},
   "outputs": [],
   "source": []
  },
  {
   "cell_type": "code",
   "execution_count": null,
   "metadata": {},
   "outputs": [],
   "source": []
  }
 ],
 "metadata": {
  "kernelspec": {
   "display_name": "Python 3",
   "language": "python",
   "name": "python3"
  },
  "language_info": {
   "codemirror_mode": {
    "name": "ipython",
    "version": 3
   },
   "file_extension": ".py",
   "mimetype": "text/x-python",
   "name": "python",
   "nbconvert_exporter": "python",
   "pygments_lexer": "ipython3",
   "version": "3.6.2"
  }
 },
 "nbformat": 4,
 "nbformat_minor": 2
}
