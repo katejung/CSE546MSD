{
 "cells": [
  {
   "cell_type": "code",
   "execution_count": 2,
   "metadata": {},
   "outputs": [
    {
     "ename": "ModuleNotFoundError",
     "evalue": "No module named 'hdf5util'",
     "output_type": "error",
     "traceback": [
      "\u001b[0;31m---------------------------------------------------------------------------\u001b[0m",
      "\u001b[0;31mModuleNotFoundError\u001b[0m                       Traceback (most recent call last)",
      "\u001b[0;32m<ipython-input-2-6b97d21f7e22>\u001b[0m in \u001b[0;36m<module>\u001b[0;34m()\u001b[0m\n\u001b[1;32m      2\u001b[0m \u001b[0;32mimport\u001b[0m \u001b[0msys\u001b[0m\u001b[0;34m\u001b[0m\u001b[0m\n\u001b[1;32m      3\u001b[0m \u001b[0msys\u001b[0m\u001b[0;34m.\u001b[0m\u001b[0mpath\u001b[0m\u001b[0;34m.\u001b[0m\u001b[0minsert\u001b[0m\u001b[0;34m(\u001b[0m\u001b[0;36m0\u001b[0m\u001b[0;34m,\u001b[0m \u001b[0;34m'../util'\u001b[0m\u001b[0;34m)\u001b[0m\u001b[0;34m\u001b[0m\u001b[0m\n\u001b[0;32m----> 4\u001b[0;31m \u001b[0;32mimport\u001b[0m \u001b[0mhdf5util\u001b[0m \u001b[0;32mas\u001b[0m \u001b[0mhdf5\u001b[0m\u001b[0;34m\u001b[0m\u001b[0m\n\u001b[0m\u001b[1;32m      5\u001b[0m \u001b[0;32mimport\u001b[0m \u001b[0mcsvutil\u001b[0m \u001b[0;32mas\u001b[0m \u001b[0mcsv\u001b[0m\u001b[0;34m\u001b[0m\u001b[0m\n\u001b[1;32m      6\u001b[0m \u001b[0;34m\u001b[0m\u001b[0m\n",
      "\u001b[0;31mModuleNotFoundError\u001b[0m: No module named 'hdf5util'"
     ]
    }
   ],
   "source": [
    "import os\n",
    "import sys\n",
    "sys.path.insert(0, '../util')\n",
    "import hdf5util as hdf5\n",
    "import csvutil as csv\n",
    "\n",
    "DATA_DIR = '../../data'\n",
    "RAW_DATA_DIR = '../../raw-data'\n",
    "TRAINING_DIR = os.path.join(RAW_DATA_DIR, 'A')\n",
    "TEST_DIR = os.path.join(RAW_DATA_DIR, 'B')\n",
    "\n",
    "def load_data_file(path):\n",
    "    return hdf5.read_file(path)\n",
    "\n",
    "def scrape_data_file(f):\n",
    "    return hdf5.get_vals(f)\n",
    "\n",
    "def scrape_raw_dataset(path):\n",
    "    dataset = []\n",
    "    for root, dirs, files in os.walk(path):\n",
    "        for filename in files:\n",
    "            if '.h5' in filename:\n",
    "                f = load_data_file(os.path.join(root, filename))\n",
    "                row = scrape_data_file(f)\n",
    "                dataset.append(row)\n",
    "    return dataset\n",
    "\n",
    "def scrape_dataset(name):\n",
    "    dataset = []\n",
    "    if name == 'test':\n",
    "        dataset = scrape_raw_dataset(TEST_DIR)\n",
    "    elif name == 'training':\n",
    "        dataset = scrape_raw_dataset(TRAINING_DIR)\n",
    "    csv.append_header(dataset)\n",
    "    return dataset"
   ]
  },
  {
   "cell_type": "code",
   "execution_count": null,
   "metadata": {},
   "outputs": [],
   "source": [
    "if __name__ == '__main__':\n",
    "\tif len(sys.argv) != 3:\n",
    "\t\tprint('Usage: python convert_raw_to_csv.py <dataset> <outfile>')\n",
    "\t\tsys.exit(1)\n",
    "\n",
    "\tdataset = scrape_dataset(sys.argv[1])\n",
    "\tcsv.write(dataset, os.path.join(DATA_DIR, sys.argv[2]))\t"
   ]
  }
 ],
 "metadata": {
  "kernelspec": {
   "display_name": "Python 3",
   "language": "python",
   "name": "python3"
  },
  "language_info": {
   "codemirror_mode": {
    "name": "ipython",
    "version": 3
   },
   "file_extension": ".py",
   "mimetype": "text/x-python",
   "name": "python",
   "nbconvert_exporter": "python",
   "pygments_lexer": "ipython3",
   "version": "3.6.2"
  }
 },
 "nbformat": 4,
 "nbformat_minor": 2
}
