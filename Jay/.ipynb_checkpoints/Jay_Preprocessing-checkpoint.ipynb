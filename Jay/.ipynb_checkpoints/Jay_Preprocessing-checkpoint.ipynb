{
 "cells": [
  {
   "cell_type": "code",
   "execution_count": 1,
   "metadata": {},
   "outputs": [],
   "source": [
    "import os\n",
    "import sys\n",
    "import time\n",
    "import glob\n",
    "import datetime\n",
    "import sqlite3\n",
    "import numpy as np"
   ]
  },
  {
   "cell_type": "code",
   "execution_count": 3,
   "metadata": {
    "scrolled": true
   },
   "outputs": [
    {
     "ename": "ModuleNotFoundError",
     "evalue": "No module named 'hdf5_getters'",
     "output_type": "error",
     "traceback": [
      "\u001b[1;31m---------------------------------------------------------------------------\u001b[0m",
      "\u001b[1;31mModuleNotFoundError\u001b[0m                       Traceback (most recent call last)",
      "\u001b[1;32m<ipython-input-3-ab69c9198ad6>\u001b[0m in \u001b[0;36m<module>\u001b[1;34m()\u001b[0m\n\u001b[0;32m      5\u001b[0m \u001b[0mmsd_code_path\u001b[0m\u001b[1;33m=\u001b[0m\u001b[1;34m'/c/Users/jbsoo/Desktop/JayJung/UW/CSE546/Project/CSE546MSD/helpers'\u001b[0m\u001b[1;33m\u001b[0m\u001b[0m\n\u001b[0;32m      6\u001b[0m \u001b[0msys\u001b[0m\u001b[1;33m.\u001b[0m\u001b[0mpath\u001b[0m\u001b[1;33m.\u001b[0m\u001b[0mappend\u001b[0m\u001b[1;33m(\u001b[0m\u001b[0mos\u001b[0m\u001b[1;33m.\u001b[0m\u001b[0mpath\u001b[0m\u001b[1;33m.\u001b[0m\u001b[0mjoin\u001b[0m\u001b[1;33m(\u001b[0m\u001b[0mmsd_code_path\u001b[0m\u001b[1;33m,\u001b[0m\u001b[1;34m'PythonSrc'\u001b[0m\u001b[1;33m)\u001b[0m \u001b[1;33m)\u001b[0m\u001b[1;33m\u001b[0m\u001b[0m\n\u001b[1;32m----> 7\u001b[1;33m \u001b[1;32mimport\u001b[0m \u001b[0mhdf5_getters\u001b[0m \u001b[1;32mas\u001b[0m \u001b[0mGETTERS\u001b[0m\u001b[1;33m\u001b[0m\u001b[0m\n\u001b[0m\u001b[0;32m      8\u001b[0m \u001b[1;33m\u001b[0m\u001b[0m\n\u001b[0;32m      9\u001b[0m \u001b[1;32mdef\u001b[0m \u001b[0mgetSamples\u001b[0m\u001b[1;33m(\u001b[0m\u001b[0mbasedir\u001b[0m\u001b[1;33m)\u001b[0m\u001b[1;33m:\u001b[0m\u001b[1;33m\u001b[0m\u001b[0m\n",
      "\u001b[1;31mModuleNotFoundError\u001b[0m: No module named 'hdf5_getters'"
     ]
    }
   ],
   "source": [
    "# path to the Million Song Dataset subset (uncompressed)\n",
    "msd_subset_path='/Users/jbsoo/Desktop/JayJung/UW/CSE546/Project/CSE546MSD/'\n",
    "msd_subset_data_path='/Users/jbsoo/Desktop/JayJung/UW/CSE546/Project/CSE546MSD/data'\n",
    "msd_subset_addf_path=os.path.join(msd_subset_path,'helpers')\n",
    "msd_code_path='/c/Users/jbsoo/Desktop/JayJung/UW/CSE546/Project/CSE546MSD/helpers'\n",
    "sys.path.append(os.path.join(msd_code_path,'PythonSrc') )\n",
    "import hdf5_getters as GETTERS\n",
    "\n",
    "def getSamples(basedir):\n",
    "    X, Y = [],[]\n",
    "    feature_labels = ['segments_pitch', \n",
    "                 'segments_timbre',\n",
    "                 'segments_loudness_max',\n",
    "                 'tempo']\n",
    "    for root, dirs, files in os.walk(basedir):\n",
    "        files = glob.glob(os.path.join(root,'*.h5'))\n",
    "        print(root)\n",
    "        # apply function to all files\n",
    "        for f in files :\n",
    "            h5 = GETTERS.open_h5_file_read(f)\n",
    "            segments_pitch = GETTERS.get_segments_pitches(h5)\n",
    "            segments_timbre = GETTERS.get_segments_timbre(h5)\n",
    "            segments_loudness_max = GETTERS.get_segments_loudness_max(h5)\n",
    "            tempo = GETTERS.get_tempo(h5)\n",
    "            year = GETTERS.get_year(h5)\n",
    "            h5.close()\n",
    "            X.append([segments_pitch,segments_timbre,segments_loudness_max,tempo])      \n",
    "            Y.append(year)\n",
    "    return X, Y, feature_labels\n",
    "\n",
    "X, Y, labels = getSamples(msd_subset_data_path)"
   ]
  },
  {
   "cell_type": "code",
   "execution_count": null,
   "metadata": {},
   "outputs": [],
   "source": [
    "# print(len(X), len(Y))\n",
    "# print(labels)\n",
    "# print(X[0][2].shape)\n",
    "def flattenX(X):\n",
    "    flattenedX = []\n",
    "    for x in X:\n",
    "        segments_pitch = x[0] # number segment x number pitch (example 501 x 12)\n",
    "        segments_timbre = x[1]\n",
    "        segments_loudness_max = x[2]\n",
    "        tempo = [x[3]]\n",
    "\n",
    "        pitchAvg = list(np.mean(segments_pitch, axis = 0))\n",
    "        timbreAvg = list(np.mean(segments_timbre , axis = 0))\n",
    "        print(len(pitchAvg))\n",
    "        pitchCov_total = np.cov(segments_pitch.T)\n",
    "        timbreCov_total = np.cov(segments_timbre.T)\n",
    "        pitchCov, timbreCov = [], []\n",
    "        for i in range(12):\n",
    "            pitch_row = pitchCov_total[i]\n",
    "            timbre_row = timbreCov_total[i]\n",
    "            pitchCov = np.concatenate((pitchCov, pitch_row[i:]))\n",
    "            timbreCov = np.concatenate((timbreCov, timbre_row[i:]))\n",
    "        pitchCov = list(pitchCov)\n",
    "        timbreCov = list(timbreCov)\n",
    "        flattened = pitchAvg+pitchCov+timbreAvg+timbreCov+tempo\n",
    "        flattenedX.append(flattened)\n",
    "    return np.array(flattenedX)\n"
   ]
  },
  {
   "cell_type": "code",
   "execution_count": 43,
   "metadata": {},
   "outputs": [
    {
     "name": "stdout",
     "output_type": "stream",
     "text": [
      "4680 4680\n"
     ]
    },
    {
     "data": {
      "image/png": "[encoded data removed]",
      "text/plain": [
       "<matplotlib.figure.Figure at 0x12d7fe7f0>"
      ]
     },
     "metadata": {},
     "output_type": "display_data"
    },
    {
     "name": "stdout",
     "output_type": "stream",
     "text": [
      "12\n",
      "181\n"
     ]
    },
    {
     "ename": "AttributeError",
     "evalue": "'NoneType' object has no attribute 'shape'",
     "output_type": "error",
     "traceback": [
      "\u001b[0;31m---------------------------------------------------------------------------\u001b[0m",
      "\u001b[0;31mAttributeError\u001b[0m                            Traceback (most recent call last)",
      "\u001b[0;32m<ipython-input-43-1e2d177c9574>\u001b[0m in \u001b[0;36m<module>\u001b[0;34m()\u001b[0m\n\u001b[1;32m     14\u001b[0m \u001b[0;34m\u001b[0m\u001b[0m\n\u001b[1;32m     15\u001b[0m \u001b[0mX_flattened\u001b[0m \u001b[0;34m=\u001b[0m \u001b[0mflattenX\u001b[0m\u001b[0;34m(\u001b[0m\u001b[0mX_filtered\u001b[0m\u001b[0;34m)\u001b[0m\u001b[0;34m\u001b[0m\u001b[0m\n\u001b[0;32m---> 16\u001b[0;31m \u001b[0mprint\u001b[0m\u001b[0;34m(\u001b[0m\u001b[0mX_flattened\u001b[0m\u001b[0;34m.\u001b[0m\u001b[0mshape\u001b[0m\u001b[0;34m)\u001b[0m\u001b[0;34m\u001b[0m\u001b[0m\n\u001b[0m",
      "\u001b[0;31mAttributeError\u001b[0m: 'NoneType' object has no attribute 'shape'"
     ]
    }
   ],
   "source": [
    "import matplotlib.pyplot as plt\n",
    "import copy\n",
    "# Generate a normal distribution, center at x=0 and y=5\n",
    "\n",
    "X_filtered = []\n",
    "Y_filtered = []\n",
    "for i, year in enumerate(Y):\n",
    "    if year != 0:\n",
    "        X_filtered.append(X[i])\n",
    "        Y_filtered.append(Y[i])\n",
    "print(len(X_filtered),len(Y_filtered))\n",
    "plt.hist(Y_filtered, bins=50)\n",
    "plt.show()\n",
    "\n",
    "X_flattened = flattenX(X_filtered)    \n",
    "print(X_flattened.shape)"
   ]
  },
  {
   "cell_type": "code",
   "execution_count": null,
   "metadata": {},
   "outputs": [],
   "source": []
  }
 ],
 "metadata": {
  "kernelspec": {
   "display_name": "Python 3",
   "language": "python",
   "name": "python3"
  }
 },
 "nbformat": 4,
 "nbformat_minor": 2
}
